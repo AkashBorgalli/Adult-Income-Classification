{
 "cells": [
  {
   "cell_type": "code",
   "execution_count": null,
   "id": "71c61c27",
   "metadata": {},
   "outputs": [
    {
     "ename": "",
     "evalue": "",
     "output_type": "error",
     "traceback": [
      "\u001b[1;31mRunning cells with 'Python 3.7.9 (conda)' requires ipykernel package.\n",
      "Run the following command to install 'ipykernel' into the Python environment. \n",
      "Command: 'conda install -p d:\\Adult Classification Project\\Adult-Income-Classification\\venv ipykernel --update-deps --force-reinstall'"
     ]
    }
   ],
   "source": [
    "# azureml-core of version 1.0.72 or higher is required\n",
    "# azureml-dataprep[pandas] of version 1.1.34 or higher is required\n",
    "import azure.core\n",
    "import azureml.core\n",
    "from azureml.core import Workspace, Dataset\n",
    "\n",
    "subscription_id = '2ff60c86-4824-4a6a-bb33-beb7c5b60b23'\n",
    "resource_group = 'machinelearning'\n",
    "workspace_name = 'akashbws'\n",
    "\n",
    "workspace = Workspace(subscription_id, resource_group, workspace_name)\n",
    "\n",
    "dataset = Dataset.get_by_name(workspace, name='salary_classification')\n",
    "dataset.to_pandas_dataframe()"
   ]
  },
  {
   "cell_type": "code",
   "execution_count": null,
   "id": "5d5e5310",
   "metadata": {},
   "outputs": [
    {
     "ename": "",
     "evalue": "",
     "output_type": "error",
     "traceback": [
      "\u001b[1;31mRunning cells with 'Python 3.7.9 (conda)' requires ipykernel package.\n",
      "Run the following command to install 'ipykernel' into the Python environment. \n",
      "Command: 'conda install -p d:\\Adult Classification Project\\Adult-Income-Classification\\venv ipykernel --update-deps --force-reinstall'"
     ]
    }
   ],
   "source": [
    "# azureml-core of version 1.0.72 or higher is required\n",
    "# azureml-dataprep[pandas] of version 1.1.34 or higher is required\n",
    "from azureml.core import Workspace, Dataset\n",
    "\n",
    "subscription_id = '2ff60c86-4824-4a6a-bb33-beb7c5b60b23'\n",
    "resource_group = 'machinelearning'\n",
    "workspace_name = 'akashbws'\n",
    "\n",
    "workspace = Workspace(subscription_id, resource_group, workspace_name)\n",
    "\n",
    "dataset = Dataset.get_by_name(workspace, name='salary_classification')\n",
    "dataset.to_pandas_dataframe()"
   ]
  },
  {
   "cell_type": "code",
   "execution_count": null,
   "id": "baf21956",
   "metadata": {},
   "outputs": [],
   "source": [
    "pip show azure-ai-ml"
   ]
  },
  {
   "cell_type": "code",
   "execution_count": null,
   "id": "408d0df4",
   "metadata": {},
   "outputs": [],
   "source": [
    "pip install azureml-sdk"
   ]
  },
  {
   "cell_type": "code",
   "execution_count": null,
   "id": "24b321db",
   "metadata": {},
   "outputs": [],
   "source": [
    "!pip list -o"
   ]
  },
  {
   "cell_type": "code",
   "execution_count": 3,
   "id": "3f4ad000",
   "metadata": {},
   "outputs": [
    {
     "name": "stderr",
     "output_type": "stream",
     "text": [
      "C:\\Users\\91706\\AppData\\Roaming\\Python\\Python37\\site-packages\\paramiko\\transport.py:236: CryptographyDeprecationWarning: Blowfish has been deprecated\n",
      "  \"class\": algorithms.Blowfish,\n"
     ]
    }
   ],
   "source": [
    "from azureml.core import Workspace, Dataset\n",
    "\n",
    "subscription_id = '2ff60c86-4824-4a6a-bb33-beb7c5b60b23'\n",
    "resource_group = 'machinelearning'\n",
    "workspace_name = 'akashbws'\n",
    "\n",
    "workspace = Workspace(subscription_id, resource_group, workspace_name)\n",
    "\n",
    "dataset = Dataset.get_by_name(workspace, name='salary_classification')\n",
    "df = dataset.to_pandas_dataframe()"
   ]
  },
  {
   "cell_type": "code",
   "execution_count": 4,
   "id": "b57330cc",
   "metadata": {},
   "outputs": [
    {
     "data": {
      "text/plain": [
       "Index(['age', 'workclass', 'fnlwgt', 'education', 'education-num',\n",
       "       'marital-status', 'occupation', 'relationship', 'race', 'sex',\n",
       "       'capital-gain', 'capital-loss', 'hours-per-week', 'country', 'salary'],\n",
       "      dtype='object')"
      ]
     },
     "execution_count": 4,
     "metadata": {},
     "output_type": "execute_result"
    }
   ],
   "source": [
    "df.columns"
   ]
  },
  {
   "cell_type": "code",
   "execution_count": 1,
   "id": "abd3ee40",
   "metadata": {},
   "outputs": [
    {
     "name": "stdout",
     "output_type": "stream",
     "text": [
      "<= 50k : 41.11\n"
     ]
    }
   ],
   "source": [
    "row_count = 31422\n",
    "print(f\"<= 50k : {round(12918 /row_count * 100 , 2)}\")"
   ]
  },
  {
   "cell_type": "code",
   "execution_count": 2,
   "id": "c1d5b5a5",
   "metadata": {},
   "outputs": [
    {
     "data": {
      "text/plain": [
       "18504"
      ]
     },
     "execution_count": 2,
     "metadata": {},
     "output_type": "execute_result"
    }
   ],
   "source": [
    "a = {1: 18504, 0: 12918}\n",
    "a[1]"
   ]
  },
  {
   "cell_type": "code",
   "execution_count": 1,
   "id": "9bea3a7d",
   "metadata": {},
   "outputs": [
    {
     "name": "stdout",
     "output_type": "stream",
     "text": [
      "Requirement already satisfied: pyyaml in d:\\adult classification project\\adult-income-classification\\venv\\lib\\site-packages (6.0)\n"
     ]
    },
    {
     "name": "stderr",
     "output_type": "stream",
     "text": [
      "WARNING: Ignoring invalid distribution -zureml-dataprep-rslex (c:\\users\\91706\\appdata\\roaming\\python\\python37\\site-packages)\n",
      "WARNING: Ignoring invalid distribution -zureml-dataprep-rslex (c:\\users\\91706\\appdata\\roaming\\python\\python37\\site-packages)\n",
      "WARNING: Ignoring invalid distribution -zureml-dataprep-rslex (c:\\users\\91706\\appdata\\roaming\\python\\python37\\site-packages)\n",
      "WARNING: Ignoring invalid distribution -zureml-dataprep-rslex (c:\\users\\91706\\appdata\\roaming\\python\\python37\\site-packages)\n",
      "WARNING: Ignoring invalid distribution -zureml-dataprep-rslex (c:\\users\\91706\\appdata\\roaming\\python\\python37\\site-packages)\n",
      "WARNING: Ignoring invalid distribution -zureml-dataprep-rslex (c:\\users\\91706\\appdata\\roaming\\python\\python37\\site-packages)\n"
     ]
    }
   ],
   "source": [
    "!pip install pyyaml"
   ]
  },
  {
   "cell_type": "code",
   "execution_count": 7,
   "id": "af0e7a06",
   "metadata": {},
   "outputs": [
    {
     "name": "stdout",
     "output_type": "stream",
     "text": [
      "{'dataset_name': 'salary_classification'}\n"
     ]
    }
   ],
   "source": [
    "\n",
    "import yaml\n",
    "from yaml.loader import SafeLoader\n",
    "\n",
    "# Open the file and load the file\n",
    "with open('params.yml') as f:\n",
    "    data = yaml.load(f, Loader=SafeLoader)\n",
    "    print(data)"
   ]
  },
  {
   "cell_type": "code",
   "execution_count": 8,
   "id": "96124968",
   "metadata": {},
   "outputs": [
    {
     "data": {
      "text/plain": [
       "'salary_classification'"
      ]
     },
     "execution_count": 8,
     "metadata": {},
     "output_type": "execute_result"
    }
   ],
   "source": [
    "data['dataset_name']"
   ]
  },
  {
   "cell_type": "code",
   "execution_count": 13,
   "id": "84d8dfa3",
   "metadata": {},
   "outputs": [
    {
     "name": "stdout",
     "output_type": "stream",
     "text": [
      "Overwriting utils.py\n"
     ]
    }
   ],
   "source": [
    "%%writefile utils.py\n",
    "import yaml\n",
    "from yaml.loader import SafeLoader\n",
    "\n",
    "def read_yml(file_name):\n",
    "    with open(file_name) as f:\n",
    "        data = yaml.load(f, Loader=SafeLoader)\n",
    "        return data"
   ]
  },
  {
   "cell_type": "code",
   "execution_count": 14,
   "id": "6c2ab95e",
   "metadata": {},
   "outputs": [],
   "source": [
    "dataset_name = read_yml('params.yml')"
   ]
  },
  {
   "cell_type": "code",
   "execution_count": 15,
   "id": "2d381517",
   "metadata": {},
   "outputs": [
    {
     "data": {
      "text/plain": [
       "'salary_classification'"
      ]
     },
     "execution_count": 15,
     "metadata": {},
     "output_type": "execute_result"
    }
   ],
   "source": [
    "dataset_name['dataset_name']"
   ]
  },
  {
   "cell_type": "code",
   "execution_count": null,
   "id": "526016a7",
   "metadata": {},
   "outputs": [],
   "source": []
  }
 ],
 "metadata": {
  "kernelspec": {
   "display_name": "Python 3.7.9 (conda)",
   "language": "python",
   "name": "python3"
  },
  "language_info": {
   "codemirror_mode": {
    "name": "ipython",
    "version": 3
   },
   "file_extension": ".py",
   "mimetype": "text/x-python",
   "name": "python",
   "nbconvert_exporter": "python",
   "pygments_lexer": "ipython3",
   "version": "3.7.0"
  },
  "vscode": {
   "interpreter": {
    "hash": "e7f4ce41d37e12b367da04db77afed8dd293f519f12fb3263c8687376dd5c581"
   }
  }
 },
 "nbformat": 4,
 "nbformat_minor": 5
}
